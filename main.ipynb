{
 "cells": [
  {
   "cell_type": "code",
   "execution_count": 1,
   "metadata": {
    "collapsed": true
   },
   "outputs": [],
   "source": [
    "import pandas as pd \n",
    "import numpy as np\n",
    "from dateutil import relativedelta as rdelta\n",
    "import time\n",
    "import datetime\n",
    "pd.options.mode.chained_assignment = None  # z='warn'"
   ]
  },
  {
   "cell_type": "code",
   "execution_count": 39,
   "metadata": {
    "collapsed": true
   },
   "outputs": [],
   "source": [
    "import data_cleaning as dc\n",
    "import dataprocessing as dp"
   ]
  },
  {
   "cell_type": "markdown",
   "metadata": {},
   "source": [
    "### Specify paths to read data files"
   ]
  },
  {
   "cell_type": "code",
   "execution_count": 3,
   "metadata": {
    "collapsed": false
   },
   "outputs": [],
   "source": [
    "path = r'C:\\Users\\Alex\\Desktop\\\\br_cb_Data\\\\'\t# modify to own path for running\n",
    "data_path = r'C:\\Users\\Alex\\Desktop\\\\br_cb\\Data\\\\'\t# modify to own path for running"
   ]
  },
  {
   "cell_type": "markdown",
   "metadata": {},
   "source": [
    "### Specify file names of dictionaries to be used "
   ]
  },
  {
   "cell_type": "code",
   "execution_count": 4,
   "metadata": {
    "collapsed": false
   },
   "outputs": [],
   "source": [
    "filename_data = 'Filtered with Nations 2007-2016.csv'  # has average ratings\n",
    "#filename_data = '2007-2016 DATA with ISIN sample.csv' # doesn't have\n",
    "filename_domicile = 'domicile_dictionary.csv'\n",
    "filename_euro_list = 'Euro_countries_list.csv'\n",
    "filename_curr_codes = 'currency_codes_dict.csv'\n",
    "filename_ratings = 'ratings_dict.csv'\n",
    "rating_cols_df = ['FitchRating', 'MoodyRating', 'Stan-dard &Poor\\'sRating']\n",
    "rating_cols_dict = ['Fitch', 'Moody\\'s', 'S&P']"
   ]
  },
  {
   "cell_type": "markdown",
   "metadata": {},
   "source": [
    "### Read main data file & dictionary files into dfs"
   ]
  },
  {
   "cell_type": "code",
   "execution_count": 69,
   "metadata": {
    "collapsed": false
   },
   "outputs": [
    {
     "name": "stdout",
     "output_type": "stream",
     "text": [
      "Remove_Chars_From_Cols function took 0.000 s\n"
     ]
    }
   ],
   "source": [
    "df = pd.read_csv(path + filename_data, low_memory=False)\n",
    "\n",
    "# remove all \\r and \\n from dataframe column names\n",
    "df.columns = dc.Remove_Chars_From_Cols(df.columns)\n",
    "\n",
    "# Read dictionaries necessary to identify bonds by their characteristics\n",
    "df_domicile = pd.read_csv(data_path + filename_domicile)\n",
    "df_euro_list = pd.read_csv(data_path + filename_euro_list)\n",
    "df_curr_codes = pd.read_csv(data_path + filename_curr_codes)\n",
    "df_ratings_dict = pd.read_csv(data_path + filename_ratings)"
   ]
  },
  {
   "cell_type": "markdown",
   "metadata": {},
   "source": [
    "### Clean and format columns of main data frame"
   ]
  },
  {
   "cell_type": "code",
   "execution_count": 70,
   "metadata": {
    "collapsed": false
   },
   "outputs": [
    {
     "name": "stdout",
     "output_type": "stream",
     "text": [
      "Fix_Maturities function took 2.951 s\n",
      "calterm function took 19.561 s\n",
      "Clean_Time_Cols function took 58.214 s\n",
      "Convert_Dom_Codes function took 0.078 s\n"
     ]
    }
   ],
   "source": [
    "# Convert all date based cols to datetime objects to help with indexing\n",
    "df = dc.Clean_Time_Cols(df)\n",
    "\n",
    "# format domicile, curr, and rating columns based on external dicts above\n",
    "df['Domicile'] = dc.Convert_Dom_Codes(df, df_domicile)"
   ]
  },
  {
   "cell_type": "code",
   "execution_count": 71,
   "metadata": {
    "collapsed": false
   },
   "outputs": [
    {
     "name": "stdout",
     "output_type": "stream",
     "text": [
      "Parse_Curr_Codes function took 0.406 s\n",
      "Get_Curr_Names function took 2.635 s\n"
     ]
    }
   ],
   "source": [
    "curr_codes = dc.Parse_Curr_Codes(df, df_curr_codes)\n",
    "df['Currency'] = dc.Get_Curr_Names(curr_codes, df_curr_codes, df_euro_list)\n",
    "df.dropna(subset=['Currency'], inplace=True)    # removing any empty currencies\n",
    "df = df[df['Currency'] != np.nan]               # removing any empty currencies"
   ]
  },
  {
   "cell_type": "markdown",
   "metadata": {},
   "source": [
    "#### Ratings already done in the filtered data set, change filename_data to commented out one requires to uncomment this function"
   ]
  },
  {
   "cell_type": "code",
   "execution_count": 8,
   "metadata": {
    "collapsed": true
   },
   "outputs": [],
   "source": [
    "# Already done in the 'Filtered' data set to save time\n",
    "\n",
    "#df['Overall Rating S&P'] = dc.Average_Ratings(df, df_ratings_dict, \n",
    "#                                           rating_cols_df, rating_cols_dict)"
   ]
  },
  {
   "cell_type": "markdown",
   "metadata": {},
   "source": [
    "### Compare issuance currency and marketplace with DOMICILE"
   ]
  },
  {
   "cell_type": "code",
   "execution_count": 10,
   "metadata": {
    "collapsed": false
   },
   "outputs": [
    {
     "name": "stdout",
     "output_type": "stream",
     "text": [
      "Compare_Curr_Dom function took 52.751 s\n",
      "Compare_Dom_Mktplc function took 51.180 s\n",
      "Remove_Curr_Filter_From_Mkt_Filter function took 38.927 s\n"
     ]
    }
   ],
   "source": [
    "df_cb_curr_dom = dc.Compare_Curr_Dom(df, df_euro_list)\n",
    "df_cb_dom_dom = dc.Compare_Dom_Mktplc(df, df_euro_list)\n",
    "df_cb_dom_dom = dc.Remove_Curr_Filter_From_Mkt_Filter(df_cb_curr_dom, \n",
    "                                                   df_cb_dom_dom, df_euro_list)"
   ]
  },
  {
   "cell_type": "markdown",
   "metadata": {},
   "source": [
    "### Compare issuance currency and marketplace with NATION"
   ]
  },
  {
   "cell_type": "code",
   "execution_count": 96,
   "metadata": {
    "collapsed": false
   },
   "outputs": [
    {
     "name": "stdout",
     "output_type": "stream",
     "text": [
      "Compare_Curr_Nation function took 56.495 s\n",
      "Compare_Nation_Mktplc function took 55.697 s\n",
      "Remove_Curr_Filter_From_Mkt_Filter function took 22.444 s\n"
     ]
    }
   ],
   "source": [
    "df_cb_curr_nat = dc.Compare_Curr_Nation(df, df_euro_list)\n",
    "df_cb_dom_nat = dc.Compare_Nation_Mktplc(df, df_euro_list)\n",
    "df_cb_dom_nat = dc.Remove_Curr_Filter_From_Mkt_Filter(df_cb_curr_nat, \n",
    "                                                   df_cb_dom_nat, df_euro_list)"
   ]
  },
  {
   "cell_type": "markdown",
   "metadata": {},
   "source": [
    "### Separate out cross-border bonds by:"
   ]
  },
  {
   "cell_type": "markdown",
   "metadata": {},
   "source": [
    "#### Nation and domicile  -- & -- corporate and SSA"
   ]
  },
  {
   "cell_type": "markdown",
   "metadata": {
    "collapsed": true
   },
   "source": [
    "#### output csv files"
   ]
  },
  {
   "cell_type": "code",
   "execution_count": 112,
   "metadata": {
    "collapsed": true
   },
   "outputs": [],
   "source": [
    "outfile_dom = 'All cross-border & foreign flagged v_9 domicile.csv'\n",
    "outfile_nation = 'All cross-border & foreign flagged v_9 nation.csv'"
   ]
  },
  {
   "cell_type": "markdown",
   "metadata": {},
   "source": [
    "#### Domicile"
   ]
  },
  {
   "cell_type": "code",
   "execution_count": 113,
   "metadata": {
    "collapsed": false
   },
   "outputs": [
    {
     "name": "stdout",
     "output_type": "stream",
     "text": [
      "Number of foreign flagged bonds:  6513\n",
      "Number of cross-border currency without foreign flag:  39586\n",
      "Number of cross-border marketplace without foreign flag:  32670\n",
      "Total number of cross-border bonds with all filters: 50342\n",
      "Flag_vs_Grouping function took 12.041 s\n"
     ]
    }
   ],
   "source": [
    "df_domicile = dc.Flag_vs_Grouping(df, df_cb_curr_dom, df_cb_dom_dom, \n",
    "                               df_euro_list, outfile_dom)"
   ]
  },
  {
   "cell_type": "code",
   "execution_count": 114,
   "metadata": {
    "collapsed": false
   },
   "outputs": [
    {
     "name": "stdout",
     "output_type": "stream",
     "text": [
      "Number of corp bonds:  33409\n",
      "Number of SSA bonds:  14646\n"
     ]
    }
   ],
   "source": [
    "df_domicile_corp, df_domicile_ssa = dc.Filter_Out_SSA(df_domicile)"
   ]
  },
  {
   "cell_type": "markdown",
   "metadata": {},
   "source": [
    "#### Nation"
   ]
  },
  {
   "cell_type": "code",
   "execution_count": 115,
   "metadata": {
    "collapsed": false
   },
   "outputs": [
    {
     "name": "stdout",
     "output_type": "stream",
     "text": [
      "Number of foreign flagged bonds:  6513\n",
      "Number of cross-border currency without foreign flag:  38967\n",
      "Number of cross-border marketplace without foreign flag:  44617\n",
      "Total number of cross-border bonds with all filters: 51837\n",
      "Flag_vs_Grouping function took 12.751 s\n"
     ]
    }
   ],
   "source": [
    "df_nation = dc.Flag_vs_Grouping(df, df_cb_curr_nat, df_cb_dom_nat, \n",
    "                             df_euro_list, outfile_nation)"
   ]
  },
  {
   "cell_type": "code",
   "execution_count": 116,
   "metadata": {
    "collapsed": false
   },
   "outputs": [
    {
     "name": "stdout",
     "output_type": "stream",
     "text": [
      "Number of corp bonds:  34864\n",
      "Number of SSA bonds:  14652\n"
     ]
    }
   ],
   "source": [
    "df_nation_corp, df_nation_ssa = dc.Filter_Out_SSA(df_nation)"
   ]
  }
 ],
 "metadata": {
  "kernelspec": {
   "display_name": "Python 3",
   "language": "python",
   "name": "python3"
  },
  "language_info": {
   "codemirror_mode": {
    "name": "ipython",
    "version": 3
   },
   "file_extension": ".py",
   "mimetype": "text/x-python",
   "name": "python",
   "nbconvert_exporter": "python",
   "pygments_lexer": "ipython3",
   "version": "3.4.3"
  }
 },
 "nbformat": 4,
 "nbformat_minor": 1
}
